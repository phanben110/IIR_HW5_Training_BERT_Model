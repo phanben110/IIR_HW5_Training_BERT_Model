{
 "cells": [
  {
   "cell_type": "code",
   "execution_count": 1,
   "metadata": {},
   "outputs": [],
   "source": [
    "import torch\n",
    "from tqdm import tqdm\n",
    "from transformers import BertTokenizer, BertModel\n",
    "import os\n",
    "from datetime import datetime\n",
    "import torch.nn as nn\n",
    "import warnings\n",
    "warnings.filterwarnings(\"ignore\")"
   ]
  },
  {
   "cell_type": "code",
   "execution_count": 4,
   "metadata": {},
   "outputs": [],
   "source": [
    "class BertSentimentClassifier(nn.Module):\n",
    "    def __init__(self, bert_model_name, num_classes):\n",
    "        super(BertSentimentClassifier, self).__init__()\n",
    "\n",
    "        self.bert = BertModel.from_pretrained(bert_model_name)\n",
    "        self.dropout1 = nn.Dropout(0.2)\n",
    "        self.fc1 = nn.Linear(self.bert.config.hidden_size, 256)\n",
    "        self.dropout2 = nn.Dropout(0.2)\n",
    "        self.fc2 = nn.Linear(256, num_classes)\n",
    "\n",
    "\n",
    "    def forward(self, input_ids, attention_mask):\n",
    "        outputs = self.bert(input_ids=input_ids, attention_mask=attention_mask)\n",
    "        pooled_output = outputs.pooler_output\n",
    "        pooled_output = self.dropout1(pooled_output)\n",
    "        output = self.fc1(pooled_output)\n",
    "        output = self.dropout2(output)\n",
    "        logits = self.fc2(output)\n",
    "\n",
    "        return logits"
   ]
  },
  {
   "cell_type": "code",
   "execution_count": 47,
   "metadata": {},
   "outputs": [
    {
     "name": "stderr",
     "output_type": "stream",
     "text": [
      "Some weights of BertModel were not initialized from the model checkpoint at alvaroalon2/biobert_diseases_ner and are newly initialized: ['bert.pooler.dense.bias', 'bert.pooler.dense.weight']\n",
      "You should probably TRAIN this model on a down-stream task to be able to use it for predictions and inference.\n"
     ]
    }
   ],
   "source": [
    "def load_bert_model(weight_path, bert_model_name):\n",
    "\n",
    "    num_classes = 6\n",
    "    model_predict = BertSentimentClassifier(bert_model_name, num_classes)\n",
    "    model_predict.load_state_dict(torch.load(weight_path, map_location=torch.device('cpu')))\n",
    "    tokenizer = BertTokenizer.from_pretrained(bert_model_name) \n",
    "    return model_predict, tokenizer\n",
    "\n",
    "\n",
    "weight_path = \"Model_BERT_1_270/final_model_BERT1.pt\" \n",
    "bert_model_name = \"alvaroalon2/biobert_diseases_ner\"\n",
    "# bert_model_name = \"bert-base-uncased\"\n",
    "model_predict, tokenizer = load_bert_model(weight_path, bert_model_name)"
   ]
  },
  {
   "cell_type": "code",
   "execution_count": 56,
   "metadata": {},
   "outputs": [
    {
     "name": "stdout",
     "output_type": "stream",
     "text": [
      "false\n"
     ]
    }
   ],
   "source": [
    "# The rest of your Streamlit app code\n",
    "input_text = \"Betaseron [SEP] antipyrine [SEP] Betaseron administration to three cancer patients over a dose range of 0.025 mg to 2.2 mg led to a dose-dependent inhibition of antipyrine elimination.14 The effect of alternate-day administration of 0.25 mg of Betaseron on drug metabolism in MS patients is unknown.\"\n",
    "#input_text = \"Betaseron [SEP] antipyrine\"\n",
    "max_len = 270\n",
    "device = \"cpu\"\n",
    "labels = [\"false\", \"effect\", \"mechanism\", \"advise\", \"int\"] \n",
    "encoded_input = tokenizer.encode_plus(\n",
    "            input_text, \n",
    "            add_special_tokens=True,\n",
    "            truncation=True,\n",
    "            max_length= max_len,\n",
    "            return_token_type_ids=False,\n",
    "            padding='max_length',\n",
    "            return_attention_mask=True,\n",
    "            return_tensors='pt',\n",
    "        ).to(device)\n",
    "predict_id = torch.argmax(model_predict(**encoded_input), dim=1).item()\n",
    "print(labels[predict_id]) "
   ]
  },
  {
   "cell_type": "code",
   "execution_count": 61,
   "metadata": {},
   "outputs": [
    {
     "data": {
      "image/png": "[encoded data removed]",
      "text/plain": [
       "<Figure size 576x432 with 1 Axes>"
      ]
     },
     "metadata": {
      "needs_background": "light"
     },
     "output_type": "display_data"
    }
   ],
   "source": [
    "import matplotlib.pyplot as plt\n",
    "import seaborn as sns\n",
    "\n",
    "# The rest of your code...\n",
    "\n",
    "# Get the predicted label probabilities\n",
    "probs = torch.nn.functional.softmax(model_predict(**encoded_input), dim=1)[0].tolist()\n",
    "\n",
    "# Filter out class 5\n",
    "filtered_probs = [prob for i, prob in enumerate(probs) if i != 5]\n",
    "\n",
    "# Create a list of labels excluding class 5\n",
    "filtered_labels = labels\n",
    "\n",
    "# Plot the distribution using seaborn\n",
    "plt.figure(figsize=(8, 6))\n",
    "sns.barplot(x=filtered_labels, y=filtered_probs, palette='viridis')\n",
    "plt.xlabel('Labels')\n",
    "plt.ylabel('Probability')\n",
    "plt.title('Predicted Label Distribution')\n",
    "\n",
    "# Display percentages on top of each bar\n",
    "for i, prob in enumerate(filtered_probs):\n",
    "    plt.text(i, prob + 0.01, f'{prob * 100:.2f}%', ha='center')\n",
    "\n",
    "plt.show()\n"
   ]
  },
  {
   "cell_type": "code",
   "execution_count": null,
   "metadata": {},
   "outputs": [],
   "source": []
  }
 ],
 "metadata": {
  "kernelspec": {
   "display_name": "ai",
   "language": "python",
   "name": "python3"
  },
  "language_info": {
   "codemirror_mode": {
    "name": "ipython",
    "version": 3
   },
   "file_extension": ".py",
   "mimetype": "text/x-python",
   "name": "python",
   "nbconvert_exporter": "python",
   "pygments_lexer": "ipython3",
   "version": "3.9.12"
  }
 },
 "nbformat": 4,
 "nbformat_minor": 2
}
